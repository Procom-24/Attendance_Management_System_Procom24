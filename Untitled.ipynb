{
 "cells": [
  {
   "cell_type": "code",
   "execution_count": 2,
   "id": "899c2e61",
   "metadata": {},
   "outputs": [
    {
     "name": "stdout",
     "output_type": "stream",
     "text": [
      "Collecting faker\n",
      "  Obtaining dependency information for faker from https://files.pythonhosted.org/packages/ff/7c/087b2d78a49c40b5db2977818672e2ef6550426255ea7120a47c95302771/Faker-22.2.0-py3-none-any.whl.metadata\n",
      "  Downloading Faker-22.2.0-py3-none-any.whl.metadata (15 kB)\n",
      "Requirement already satisfied: python-dateutil>=2.4 in c:\\users\\rtc\\anaconda3\\lib\\site-packages (from faker) (2.8.2)\n",
      "Requirement already satisfied: six>=1.5 in c:\\users\\rtc\\anaconda3\\lib\\site-packages (from python-dateutil>=2.4->faker) (1.16.0)\n",
      "Downloading Faker-22.2.0-py3-none-any.whl (1.7 MB)\n",
      "   ---------------------------------------- 0.0/1.7 MB ? eta -:--:--\n",
      "   -- ------------------------------------- 0.1/1.7 MB 1.7 MB/s eta 0:00:01\n",
      "   ---- ----------------------------------- 0.2/1.7 MB 2.1 MB/s eta 0:00:01\n",
      "   ------- -------------------------------- 0.3/1.7 MB 2.3 MB/s eta 0:00:01\n",
      "   --------- ------------------------------ 0.4/1.7 MB 2.2 MB/s eta 0:00:01\n",
      "   ------------ --------------------------- 0.6/1.7 MB 2.2 MB/s eta 0:00:01\n",
      "   --------------- ------------------------ 0.7/1.7 MB 2.2 MB/s eta 0:00:01\n",
      "   ----------------- ---------------------- 0.7/1.7 MB 2.1 MB/s eta 0:00:01\n",
      "   ------------------- -------------------- 0.8/1.7 MB 2.1 MB/s eta 0:00:01\n",
      "   ---------------------- ----------------- 1.0/1.7 MB 2.2 MB/s eta 0:00:01\n",
      "   ------------------------ --------------- 1.1/1.7 MB 2.1 MB/s eta 0:00:01\n",
      "   --------------------------- ------------ 1.2/1.7 MB 2.2 MB/s eta 0:00:01\n",
      "   ------------------------------ --------- 1.3/1.7 MB 2.2 MB/s eta 0:00:01\n",
      "   -------------------------------- ------- 1.4/1.7 MB 2.3 MB/s eta 0:00:01\n",
      "   ----------------------------------- ---- 1.5/1.7 MB 2.3 MB/s eta 0:00:01\n",
      "   ------------------------------------- -- 1.6/1.7 MB 2.3 MB/s eta 0:00:01\n",
      "   ---------------------------------------  1.7/1.7 MB 2.2 MB/s eta 0:00:01\n",
      "   ---------------------------------------- 1.7/1.7 MB 2.2 MB/s eta 0:00:00\n",
      "Installing collected packages: faker\n",
      "Successfully installed faker-22.2.0\n"
     ]
    }
   ],
   "source": [
    "!pip install faker"
   ]
  },
  {
   "cell_type": "code",
   "execution_count": 3,
   "id": "b35ae093",
   "metadata": {},
   "outputs": [
    {
     "name": "stdout",
     "output_type": "stream",
     "text": [
      "CSV file 'participants_data.csv' has been created with random participant data.\n"
     ]
    }
   ],
   "source": [
    "import pandas as pd\n",
    "from faker import Faker\n",
    "import random\n",
    "\n",
    "# Set up Faker to generate fake data\n",
    "fake = Faker()\n",
    "\n",
    "# Function to generate random participant data\n",
    "def generate_random_data(num_participants):\n",
    "    data = {\n",
    "        'id': range(1, num_participants + 1),\n",
    "        'name': [fake.name() for _ in range(num_participants)],\n",
    "        'email': [random.choice(['asifabbas029@gmail.com', 'k224026@nu.edu.pk']) for _ in range(num_participants)],\n",
    "    }\n",
    "    return pd.DataFrame(data)\n",
    "\n",
    "# Generate random data for 10 participants\n",
    "participants_df = generate_random_data(10)\n",
    "\n",
    "# Save the DataFrame to a CSV file\n",
    "participants_df.to_csv('participants_data.csv', index=False)\n",
    "\n",
    "print(\"CSV file 'participants_data.csv' has been created with random participant data.\")\n"
   ]
  }
 ],
 "metadata": {
  "kernelspec": {
   "display_name": "Python 3 (ipykernel)",
   "language": "python",
   "name": "python3"
  },
  "language_info": {
   "codemirror_mode": {
    "name": "ipython",
    "version": 3
   },
   "file_extension": ".py",
   "mimetype": "text/x-python",
   "name": "python",
   "nbconvert_exporter": "python",
   "pygments_lexer": "ipython3",
   "version": "3.11.4"
  }
 },
 "nbformat": 4,
 "nbformat_minor": 5
}
